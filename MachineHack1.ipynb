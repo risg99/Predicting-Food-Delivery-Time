{
 "cells": [
  {
   "cell_type": "code",
   "execution_count": null,
   "metadata": {},
   "outputs": [],
   "source": [
    "import pandas as pd\n",
    "import numpy as np\n",
    "from sklearn import linear_model\n",
    "from sklearn.neighbors import KNeighborsClassifier\n",
    "\n",
    "train_df = pd.read_excel('Data_Train.xlsx')\n",
    "test_df = pd.read_excel('Data_Test.xlsx')"
   ]
  },
  {
   "cell_type": "code",
   "execution_count": null,
   "metadata": {},
   "outputs": [],
   "source": [
    "train_df.head()"
   ]
  },
  {
   "cell_type": "code",
   "execution_count": null,
   "metadata": {},
   "outputs": [],
   "source": [
    "train_df['Rating'] = train_df['Rating'].replace(['NEW','Opening Soon','Temporarily Closed','-'],value=0)\n",
    "test_df['Rating'] = test_df['Rating'].replace(['NEW','Opening Soon','Temporarily Closed','-'],value=0)\n",
    "train_df['Rating'] = pd.to_numeric(train_df['Rating'])\n",
    "test_df['Rating'] = pd.to_numeric(test_df['Rating'])"
   ]
  },
  {
   "cell_type": "code",
   "execution_count": null,
   "metadata": {},
   "outputs": [],
   "source": [
    "train_df['Votes'] = train_df['Votes'].replace(['-'],value=0)\n",
    "test_df['Votes'] = test_df['Votes'].replace(['-'],value=0)\n",
    "train_df['Votes'] = pd.to_numeric(train_df['Votes'])\n",
    "test_df['Votes'] = pd.to_numeric(test_df['Votes'])"
   ]
  },
  {
   "cell_type": "code",
   "execution_count": null,
   "metadata": {},
   "outputs": [],
   "source": [
    "train_df['Reviews'] = train_df['Reviews'].replace(['-'],value=0)\n",
    "test_df['Reviews'] = test_df['Reviews'].replace(['-'],value=0)\n",
    "train_df['Reviews'] = pd.to_numeric(train_df['Reviews'])\n",
    "test_df['Reviews'] = pd.to_numeric(test_df['Reviews'])"
   ]
  },
  {
   "cell_type": "code",
   "execution_count": null,
   "metadata": {},
   "outputs": [],
   "source": [
    "cuisines = []\n",
    "for i in train_df['Cuisines']:\n",
    "\tif i not in cuisines:\n",
    "\t\tcuisines.append(i)\n",
    "\n",
    "locations = []\n",
    "for i in train_df['Location']:\n",
    "\tif i not in locations:\n",
    "\t\tlocations.append(i)\n",
    "\n",
    "c,l = [],[]\n",
    "for x in train_df['Location']:\n",
    "\ty = locations.index(x)\n",
    "\tl.append(y)\n",
    "\n",
    "for x in train_df['Cuisines']:\n",
    "\ty = cuisines.index(x)\n",
    "\tc.append(y)\n",
    "\n",
    "ct,lt = [],[]\n",
    "\n",
    "for x in test_df['Location']:\n",
    "\tif x in locations:\n",
    "\t\ty = locations.index(x)\n",
    "\t\tlt.append(y)\n",
    "\telse:\n",
    "\t\tlocations.append(x)\n",
    "\t\ty = locations.index(x)\n",
    "\t\tlt.append(y)\n",
    "\n",
    "for x in test_df['Cuisines']:\n",
    "\tif x in cuisines:\n",
    "\t\ty = cuisines.index(x)\n",
    "\t\tct.append(y)\n",
    "\telse:\n",
    "\t\tcuisines.append(x)\n",
    "\t\ty = cuisines.index(x)\n",
    "\t\tct.append(y)"
   ]
  },
  {
   "cell_type": "code",
   "execution_count": null,
   "metadata": {},
   "outputs": [],
   "source": [
    "train_df['Minimum_Order'] = train_df['Minimum_Order'].apply(lambda x:int(x.strip('₹')))\n",
    "train_df['Average_Cost'] = train_df['Average_Cost'].apply(lambda x:(x.strip('₹')))\n",
    "train_df['Average_Cost'] = train_df['Average_Cost'].apply(lambda x:int(x.replace(',','')) if x != 'for' else -99)\n",
    "median = int(train_df['Average_Cost'].median())\n",
    "train_df[\"Average_Cost\"] = np.where(train_df[\"Average_Cost\"] == 0, median,train_df['Average_Cost'])\n",
    "\n",
    "train_df['Delivery_Time'] = train_df['Delivery_Time'].apply(lambda x:int(x.strip(' minutes')))"
   ]
  },
  {
   "cell_type": "code",
   "execution_count": null,
   "metadata": {},
   "outputs": [],
   "source": [
    "test_df['Minimum_Order'] = test_df['Minimum_Order'].apply(lambda x:int(x.strip('₹')))\n",
    "test_df['Average_Cost'] = test_df['Average_Cost'].apply(lambda x:(x.strip('₹')))\n",
    "test_df['Average_Cost'] = test_df['Average_Cost'].apply(lambda x:int(x.replace(',','')) if x != 'for' else -99)\n",
    "median = int(test_df['Average_Cost'].median())\n",
    "test_df[\"Average_Cost\"] = np.where(test_df[\"Average_Cost\"] == 0, median,test_df['Average_Cost'])"
   ]
  },
  {
   "cell_type": "code",
   "execution_count": null,
   "metadata": {},
   "outputs": [],
   "source": [
    "knn = KNeighborsClassifier(n_neighbors = 2)\n",
    "lm = linear_model.LinearRegression()"
   ]
  },
  {
   "cell_type": "code",
   "execution_count": null,
   "metadata": {},
   "outputs": [],
   "source": [
    "X_train = train_df.drop(['Restaurant','Delivery_Time','Location','Cuisines'],axis=1)\n",
    "X_train['Location'] = l\n",
    "X_train['Cuisines'] = c\n",
    "X_test = test_df.drop(['Restaurant','Location','Cuisines'],axis=1)\n",
    "X_test['Location'] = lt\n",
    "X_test['Cuisines'] = ct\n",
    "Y_train = train_df['Delivery_Time'].values"
   ]
  },
  {
   "cell_type": "code",
   "execution_count": null,
   "metadata": {},
   "outputs": [],
   "source": [
    "knn.fit(X_train,Y_train)\n",
    "lm.fit(X_train,Y_train)"
   ]
  },
  {
   "cell_type": "code",
   "execution_count": null,
   "metadata": {},
   "outputs": [],
   "source": [
    "print(knn.predict(X_test)[0:5])\n",
    "print(lm.predict(X_test)[0:5])"
   ]
  },
  {
   "cell_type": "code",
   "execution_count": null,
   "metadata": {},
   "outputs": [],
   "source": [
    "print(knn.predict(X_train)[0:5])\n",
    "print(train_df['Delivery_Time'][0:5])"
   ]
  },
  {
   "cell_type": "code",
   "execution_count": null,
   "metadata": {},
   "outputs": [],
   "source": [
    "train_df.describe()"
   ]
  },
  {
   "cell_type": "code",
   "execution_count": 21,
   "metadata": {},
   "outputs": [],
   "source": [
    "dfTr = pd.read_excel('Data_Train.xlsx')\n",
    "dfTe = pd.read_excel('Data_Test.xlsx')"
   ]
  },
  {
   "cell_type": "code",
   "execution_count": 35,
   "metadata": {},
   "outputs": [
    {
     "name": "stdout",
     "output_type": "stream",
     "text": [
      "6\n"
     ]
    }
   ],
   "source": [
    "from sklearn.naive_bayes import GaussianNB   \n",
    "for i,g in dfTr.groupby('Delivery_Time'):\n",
    "    print(i)"
   ]
  },
  {
   "cell_type": "code",
   "execution_count": null,
   "metadata": {},
   "outputs": [],
   "source": [
    "dfTr['Delivery_Time'] = dfTr['Delivery_Time'].apply(lambda x:int(x.strip(' minutes')))"
   ]
  },
  {
   "cell_type": "code",
   "execution_count": 37,
   "metadata": {},
   "outputs": [
    {
     "data": {
      "text/plain": [
       "0        6\n",
       "1        6\n",
       "2        6\n",
       "3        6\n",
       "4        6\n",
       "        ..\n",
       "11089    6\n",
       "11090    6\n",
       "11091    6\n",
       "11092    6\n",
       "11093    6\n",
       "Name: Delivery_Time, Length: 11094, dtype: int64"
      ]
     },
     "execution_count": 37,
     "metadata": {},
     "output_type": "execute_result"
    }
   ],
   "source": [
    "dfTr['Delivery_Time']"
   ]
  },
  {
   "cell_type": "code",
   "execution_count": 36,
   "metadata": {},
   "outputs": [],
   "source": [
    "for i in dfTr['Delivery_Time']:\n",
    "    if i == 10:\n",
    "        dfTr['Delivery_Time'] = 0\n",
    "    elif i == 20:\n",
    "        dfTr['Delivery_Time'] = 1\n",
    "    elif i == 30:\n",
    "        dfTr['Delivery_Time'] = 2\n",
    "    elif i == 45:\n",
    "        dfTr['Delivery_Time'] = 3\n",
    "    elif i == 65:\n",
    "        dfTr['Delivery_Time'] = 4\n",
    "    elif i == 80:\n",
    "        dfTr['Delivery_Time'] = 5\n",
    "    elif i == 120:\n",
    "        dfTr['Delivery_Time'] = 6"
   ]
  },
  {
   "cell_type": "code",
   "execution_count": 38,
   "metadata": {},
   "outputs": [
    {
     "data": {
      "text/plain": [
       "0        30\n",
       "1        30\n",
       "2        65\n",
       "3        30\n",
       "4        65\n",
       "         ..\n",
       "11089    30\n",
       "11090    30\n",
       "11091    30\n",
       "11092    30\n",
       "11093    30\n",
       "Name: Delivery_Time, Length: 11094, dtype: int64"
      ]
     },
     "execution_count": 38,
     "metadata": {},
     "output_type": "execute_result"
    }
   ],
   "source": [
    "train_df['Delivery_Time']"
   ]
  },
  {
   "cell_type": "code",
   "execution_count": null,
   "metadata": {},
   "outputs": [],
   "source": []
  }
 ],
 "metadata": {
  "kernelspec": {
   "display_name": "Python 3",
   "language": "python",
   "name": "python3"
  },
  "language_info": {
   "codemirror_mode": {
    "name": "ipython",
    "version": 3
   },
   "file_extension": ".py",
   "mimetype": "text/x-python",
   "name": "python",
   "nbconvert_exporter": "python",
   "pygments_lexer": "ipython3",
   "version": "3.7.0"
  }
 },
 "nbformat": 4,
 "nbformat_minor": 2
}
